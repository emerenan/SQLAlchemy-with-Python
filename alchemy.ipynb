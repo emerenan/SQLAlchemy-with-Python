{
  "nbformat": 4,
  "nbformat_minor": 0,
  "metadata": {
    "colab": {
      "name": "Untitled1.ipynb",
      "provenance": [],
      "authorship_tag": "ABX9TyN9NwlPMvJHkAuXnw9ivFu9",
      "include_colab_link": true
    },
    "kernelspec": {
      "name": "python3",
      "display_name": "Python 3"
    }
  },
  "cells": [
    {
      "cell_type": "markdown",
      "metadata": {
        "id": "view-in-github",
        "colab_type": "text"
      },
      "source": [
        "<a href=\"https://colab.research.google.com/github/emerenan/SQLAlchemy-with-Python/blob/master/alchemy.ipynb\" target=\"_parent\"><img src=\"https://colab.research.google.com/assets/colab-badge.svg\" alt=\"Open In Colab\"/></a>"
      ]
    },
    {
      "cell_type": "code",
      "metadata": {
        "id": "dcPFai1HRIQF",
        "colab_type": "code",
        "colab": {
          "base_uri": "https://localhost:8080/",
          "height": 54
        },
        "outputId": "34098bb0-f9d7-46b6-adcb-7853d7a047ad"
      },
      "source": [
        "# Import create_engine, MetaData\n",
        "from sqlalchemy import create_engine, MetaData\n",
        "from sqlalchemy import Table, Column, String, Integer\n",
        "from sqlalchemy import insert\n",
        "from sqlalchemy import select, func\n",
        "from sqlalchemy import case, cast, Float\n",
        "import pandas as pd\n",
        "import matplotlib.pyplot as plt\n",
        "\n",
        "def db_conn(db_path):\n",
        "    try:\n",
        "        connection = create_engine(db_path).connect()\n",
        "        metadata = MetaData()\n",
        "        return connection, metadata\n",
        "\n",
        "    except:\n",
        "        print(\"Não foi possível conectar ao banco!\"+\"\\n\"+\"Verifique o caminho passado.\")\n",
        "\n",
        "def plot(axes, x, y, color, xlabel, ylabel, rot):\n",
        "    axes.scatter(x, y, c=color)\n",
        "    axes.set_xlabel(xlabel)\n",
        "    axes.set_ylabel(ylabel)\n",
        "    axes.set_xticklabels(x, rotation=rot)\n",
        "\n",
        "db_path = 'sqlite:///C:\\sqlite\\census.db'\n",
        "con, meta = db_conn(db_path)\n",
        "census = Table('census', meta,\n",
        "            Column('state', String(30)),\n",
        "            Column('sex', String(1)),\n",
        "            Column('age', Integer()),\n",
        "            Column('pop2000', Integer()),\n",
        "            Column('pop2008', Integer()))\n",
        "meta.create_all(con)\n",
        "print(repr(meta.tables['census']))"
      ],
      "execution_count": 7,
      "outputs": [
        {
          "output_type": "stream",
          "text": [
            "Table('census', MetaData(bind=None), Column('state', String(length=30), table=<census>), Column('sex', String(length=1), table=<census>), Column('age', Integer(), table=<census>), Column('pop2000', Integer(), table=<census>), Column('pop2008', Integer(), table=<census>), schema=None)\n"
          ],
          "name": "stdout"
        }
      ]
    }
  ]
}